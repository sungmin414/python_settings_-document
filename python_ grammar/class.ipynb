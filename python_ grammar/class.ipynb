{
 "cells": [
  {
   "cell_type": "markdown",
   "metadata": {},
   "source": [
    "# Class"
   ]
  },
  {
   "cell_type": "code",
   "execution_count": 62,
   "metadata": {},
   "outputs": [],
   "source": [
    "class Shop:\n",
    "    description = 'Python Shop Class'\n",
    "    count = 0\n",
    "    shop_list = []\n",
    "    \n",
    "    # 인스턴스 메서드\n",
    "    # 첫 번째 매개변수로 항상 인스턴스 자신이 전달된다 \n",
    "    # 인스턴스가 전달되는 첫 번째 매개변수의 이름은 관용적으로 'self'를 사용\n",
    "    def __init__(self,name):\n",
    "        self.name = name\n",
    "        Shop.count += 1\n",
    "        Shop.shop_list.append(self)\n",
    "        \n",
    "    def __repr__(self):\n",
    "        return f'상점({self.name})'\n",
    "    \n",
    "    def show_info(self):\n",
    "        return f'상품정보는 ({self.name})'\n",
    "    \n",
    "    # 클래스 메서드\n",
    "    # 첫 번째 매개변수로 항상 클래스 정의 자체가 전달된다\n",
    "    # 클래스 정의가 전달되는 첫 번째 매개변수의 이름은 관용적으로 'cls'를 사용\n",
    "    @classmethod\n",
    "    def get_shop_count(cls):\n",
    "        return cls.count\n",
    "    \n",
    "    @classmethod\n",
    "    def get_shop_list(cls):\n",
    "        return cls.shop_list[-1]"
   ]
  },
  {
   "cell_type": "markdown",
   "metadata": {},
   "source": [
    "- 클래스명을 호출()하는 것은 클래스 생성자 메서드를 실행한다는 의미\n",
    "- 클래스 생성자 메서드는 매직메서드 `__init__`에 정의된다\n",
    "- 클래스 생성자의 호출 결과를 해당 클래스의 인스턴스\n",
    "- 인스턴스는 특정 클래스형(타입)의 객체를 말함"
   ]
  },
  {
   "cell_type": "code",
   "execution_count": 63,
   "metadata": {},
   "outputs": [],
   "source": [
    "subway = Shop('서브웨이')\n",
    "lotteria = Shop('롯데리아')"
   ]
  },
  {
   "cell_type": "code",
   "execution_count": 70,
   "metadata": {},
   "outputs": [
    {
     "data": {
      "text/plain": [
       "2"
      ]
     },
     "execution_count": 70,
     "metadata": {},
     "output_type": "execute_result"
    }
   ],
   "source": [
    "Shop.get_shop_count()"
   ]
  },
  {
   "cell_type": "code",
   "execution_count": 71,
   "metadata": {},
   "outputs": [
    {
     "data": {
      "text/plain": [
       "2"
      ]
     },
     "execution_count": 71,
     "metadata": {},
     "output_type": "execute_result"
    }
   ],
   "source": [
    "subway.get_shop_count()"
   ]
  },
  {
   "cell_type": "code",
   "execution_count": 88,
   "metadata": {},
   "outputs": [],
   "source": [
    "class Shop:\n",
    "    def __init__(self, name, shop_type, address):\n",
    "        self.name = name\n",
    "        # self._shop.type은 인스턴스의 속성명\n",
    "        # 우측의 shop_type은 초기화 메서드의 매개변수명\n",
    "        self.__shop_type = shop_type\n",
    "        self.address = address\n",
    "        \n",
    "    def show_info(self):\n",
    "        print(\n",
    "            f'상품정보({self.name})\\n'\n",
    "            f'유형: {self.__shop_type}\\n'\n",
    "            f'주소: {self.address}'\n",
    "        )\n",
    "    \n",
    "    def change_type(self, new_shop_type):\n",
    "        self.__shop_type = new_shop_type"
   ]
  },
  {
   "cell_type": "code",
   "execution_count": 114,
   "metadata": {},
   "outputs": [],
   "source": [
    "subway = Shop('서브웨이', '샌드위치가게', '성수역 옆에')"
   ]
  },
  {
   "cell_type": "code",
   "execution_count": 97,
   "metadata": {},
   "outputs": [
    {
     "name": "stdout",
     "output_type": "stream",
     "text": [
      "상품정보(서브웨이)\n",
      "유형: 샌드위치가게\n",
      "주소: 성수역 옆에\n"
     ]
    }
   ],
   "source": [
    "subway.show_info()"
   ]
  },
  {
   "cell_type": "code",
   "execution_count": 99,
   "metadata": {},
   "outputs": [
    {
     "name": "stdout",
     "output_type": "stream",
     "text": [
      "상품정보(서브웨이)\n",
      "유형: 패스트푸드\n",
      "주소: 성수역 옆에\n"
     ]
    }
   ],
   "source": [
    "subway.change_type('패스트푸드')\n",
    "subway.show_info()"
   ]
  },
  {
   "cell_type": "code",
   "execution_count": 101,
   "metadata": {},
   "outputs": [
    {
     "name": "stdout",
     "output_type": "stream",
     "text": [
      "상품정보(서브웨이)\n",
      "유형: 패스트푸드\n",
      "주소: 성수역 옆에\n"
     ]
    }
   ],
   "source": [
    "subway__shop_type = '다시 샌드위치'\n",
    "subway.show_info()"
   ]
  },
  {
   "cell_type": "code",
   "execution_count": 106,
   "metadata": {},
   "outputs": [
    {
     "data": {
      "text/plain": [
       "['_Shop__shop_type',\n",
       " '__class__',\n",
       " '__delattr__',\n",
       " '__dict__',\n",
       " '__dir__',\n",
       " '__doc__',\n",
       " '__eq__',\n",
       " '__format__',\n",
       " '__ge__',\n",
       " '__getattribute__',\n",
       " '__gt__',\n",
       " '__hash__',\n",
       " '__init__',\n",
       " '__init_subclass__',\n",
       " '__le__',\n",
       " '__lt__',\n",
       " '__module__',\n",
       " '__ne__',\n",
       " '__new__',\n",
       " '__reduce__',\n",
       " '__reduce_ex__',\n",
       " '__repr__',\n",
       " '__setattr__',\n",
       " '__sizeof__',\n",
       " '__str__',\n",
       " '__subclasshook__',\n",
       " '__weakref__',\n",
       " 'address',\n",
       " 'change_type',\n",
       " 'name',\n",
       " 'show_info']"
      ]
     },
     "execution_count": 106,
     "metadata": {},
     "output_type": "execute_result"
    }
   ],
   "source": [
    "dir(subway)"
   ]
  },
  {
   "cell_type": "code",
   "execution_count": 113,
   "metadata": {},
   "outputs": [
    {
     "data": {
      "text/plain": [
       "'패스트푸드'"
      ]
     },
     "execution_count": 113,
     "metadata": {},
     "output_type": "execute_result"
    }
   ],
   "source": [
    "subway._Shop__shop_type"
   ]
  },
  {
   "cell_type": "code",
   "execution_count": null,
   "metadata": {},
   "outputs": [],
   "source": []
  },
  {
   "cell_type": "code",
   "execution_count": null,
   "metadata": {},
   "outputs": [],
   "source": []
  },
  {
   "cell_type": "code",
   "execution_count": null,
   "metadata": {},
   "outputs": [],
   "source": []
  },
  {
   "cell_type": "code",
   "execution_count": null,
   "metadata": {},
   "outputs": [],
   "source": []
  },
  {
   "cell_type": "markdown",
   "metadata": {},
   "source": [
    "# 속성 접근 지정자의 종류\n",
    "- private: 정의된 클래스에서만 사용가능\n",
    "- protected: 정의된 클래스 및 상속받은 클래스의 내부에서만 변경 및 사용가능\n",
    "- public: 클래스 외부에서도 변경 및 사용가능"
   ]
  },
  {
   "cell_type": "code",
   "execution_count": 165,
   "metadata": {},
   "outputs": [],
   "source": [
    "class Shop:\n",
    "    SHOP_TYPE_LIST = ['샌드위치','패스트푸드']\n",
    "    \n",
    "    def __init__(self, name, shop_type, address):\n",
    "        self.name = name\n",
    "        # self._shop.type은 인스턴스의 속성명\n",
    "        # 우측의 shop_type은 초기화 메서드의 매개변수명\n",
    "        self.__shop_type = shop_type\n",
    "        self.address = address\n",
    "        \n",
    "    def show_info(self):\n",
    "        print(\n",
    "            f'상품정보({self.name})\\n'\n",
    "            f'유형: {self.__shop_type}\\n'\n",
    "            f'주소: {self.address}'\n",
    "        )\n",
    "    \n",
    "    # 특정 private속성에 대해 getter함수만 존재할 경우\n",
    "    # 해당 속성이 '읽기전용'이 됨\n",
    "    def get_shop_type(self):\n",
    "        return self.__shop_type\n",
    "    \n",
    "    # setter함수\n",
    "    def set_shop_type(self, new_shop_type):\n",
    "        if new_shop_type in self.SHOP_TYPE_LIST:\n",
    "            self.__shop_type = new_shop_type\n",
    "        else:\n",
    "            print('상점 유형은 {}중 하나여야합니다'.format(\n",
    "                ','.join(self.SHOP_TYPE_LIST),\n",
    "            ))"
   ]
  },
  {
   "cell_type": "code",
   "execution_count": 132,
   "metadata": {},
   "outputs": [
    {
     "data": {
      "text/plain": [
       "'샌드위치'"
      ]
     },
     "execution_count": 132,
     "metadata": {},
     "output_type": "execute_result"
    }
   ],
   "source": [
    "subway = Shop('서브웨이','샌드위치','성수역')\n",
    "subway.get_shop_type()"
   ]
  },
  {
   "cell_type": "code",
   "execution_count": 133,
   "metadata": {},
   "outputs": [
    {
     "data": {
      "text/plain": [
       "'패스트푸드'"
      ]
     },
     "execution_count": 133,
     "metadata": {},
     "output_type": "execute_result"
    }
   ],
   "source": [
    "subway.set_shop_type('패스트푸드')\n",
    "subway.get_shop_type()"
   ]
  },
  {
   "cell_type": "code",
   "execution_count": 134,
   "metadata": {},
   "outputs": [
    {
     "name": "stdout",
     "output_type": "stream",
     "text": [
      "상점 유형은 샌드위치,패스트푸드중 하나여야합니다\n"
     ]
    },
    {
     "data": {
      "text/plain": [
       "'패스트푸드'"
      ]
     },
     "execution_count": 134,
     "metadata": {},
     "output_type": "execute_result"
    }
   ],
   "source": [
    "subway.set_shop_type('PC방')\n",
    "subway.get_shop_type()"
   ]
  },
  {
   "cell_type": "code",
   "execution_count": 166,
   "metadata": {},
   "outputs": [],
   "source": [
    "class Shop:\n",
    "    SHOP_TYPE_LIST = ['샌드위치','패스트푸드']\n",
    "    \n",
    "    def __init__(self, name, shop_type, address):\n",
    "        self.name = name\n",
    "        # self._shop.type은 인스턴스의 속성명\n",
    "        # 우측의 shop_type은 초기화 메서드의 매개변수명\n",
    "        self.__shop_type = shop_type\n",
    "        self.address = address\n",
    "        \n",
    "    def show_info(self):\n",
    "        print(\n",
    "            f'상품정보({self.name})\\n'\n",
    "            f'유형: {self.__shop_type}\\n'\n",
    "            f'주소: {self.address}'\n",
    "        )\n",
    "    \n",
    "   \n",
    "    # getter역활을 하는 property decorator\n",
    "    @property\n",
    "    def shop_type(self):\n",
    "        return self.__shop_type\n",
    "    \n",
    "    # setter역활을 하는 property decorator\n",
    "    # <getter property method name>.setter\n",
    "    @shop_type.setter\n",
    "    def shop_type(self, new_shop_type):\n",
    "        if new_shop_type in self.SHOP_TYPE_LIST:\n",
    "            self.__shop_type = new_shop_type\n",
    "        else:\n",
    "            print('상점 유형은 {}중 하나여야합니다'.format(\n",
    "                ','.join(self.SHOP_TYPE_LIST),\n",
    "            ))"
   ]
  },
  {
   "cell_type": "code",
   "execution_count": 167,
   "metadata": {},
   "outputs": [
    {
     "data": {
      "text/plain": [
       "'샌드위치'"
      ]
     },
     "execution_count": 167,
     "metadata": {},
     "output_type": "execute_result"
    }
   ],
   "source": [
    "subway = Shop('서브웨이','샌드위치','성수역')\n",
    "subway.shop_type"
   ]
  },
  {
   "cell_type": "code",
   "execution_count": 168,
   "metadata": {},
   "outputs": [
    {
     "name": "stdout",
     "output_type": "stream",
     "text": [
      "상품정보(서브웨이)\n",
      "유형: 패스트푸드\n",
      "주소: 성수역\n"
     ]
    }
   ],
   "source": [
    "subway.shop_type = '패스트푸드'\n",
    "subway.show_info()"
   ]
  },
  {
   "cell_type": "markdown",
   "metadata": {},
   "source": [
    "# 상속"
   ]
  },
  {
   "cell_type": "code",
   "execution_count": 243,
   "metadata": {},
   "outputs": [],
   "source": [
    "class Shop:\n",
    "    SHOP_TYPE_LIST = ['샌드위치','패스트푸드']\n",
    "    \n",
    "    def __init__(self, name, shop_type, address):\n",
    "        self.name = name\n",
    "        # self._shop.type은 인스턴스의 속성명\n",
    "        # 우측의 shop_type은 초기화 메서드의 매개변수명\n",
    "        self._shop_type = shop_type\n",
    "        self.address = address\n",
    "        \n",
    "    \n",
    "    def show_info(self):\n",
    "        \"\"\"\n",
    "        info프로퍼티 값을 출력\n",
    "        \"\"\"\n",
    "        print(self.info)\n",
    "    \n",
    "    @property\n",
    "    def info(self):\n",
    "        \"\"\"\n",
    "        상점 정보, 유형, 주소 정보 문자열\n",
    "        \"\"\"\n",
    "        return (\n",
    "            f'상점정보({self.name})\\n'\n",
    "            f'유형: {self._shop_type}\\n'\n",
    "            f'주소: {self.address}'\n",
    "        )\n",
    "    \n",
    "\n",
    "\n",
    "\n",
    "    # getter역활을 하는 property decorator\n",
    "    @property\n",
    "    def shop_type(self):\n",
    "        return self._shop_type\n",
    "    \n",
    "    # setter역활을 하는 property decorator\n",
    "    # <getter property method name>.setter\n",
    "    @shop_type.setter\n",
    "    def shop_type(self, new_shop_type):\n",
    "        if new_shop_type in self.SHOP_TYPE_LIST:\n",
    "            self._shop_type = new_shop_type\n",
    "        else:\n",
    "            print('상점 유형은 {}중 하나여야합니다'.format(\n",
    "                ','.join(self.SHOP_TYPE_LIST),\n",
    "            ))\n",
    "            \n",
    "            \n",
    "class Restaurant(Shop):\n",
    "    @property\n",
    "    def info(self):\n",
    "        return '식당' + super().info[2:]"
   ]
  },
  {
   "cell_type": "code",
   "execution_count": 244,
   "metadata": {},
   "outputs": [
    {
     "name": "stdout",
     "output_type": "stream",
     "text": [
      "식당정보(서브웨이)\n",
      "유형: 식당\n",
      "주소: 성수역\n"
     ]
    }
   ],
   "source": [
    "subway = Restaurant('서브웨이','식당','성수역')\n",
    "subway.show_info()"
   ]
  },
  {
   "cell_type": "code",
   "execution_count": 255,
   "metadata": {},
   "outputs": [],
   "source": [
    "class Restaurant(Shop):\n",
    "    def __init__(self, name, address, rating):\n",
    "        # 레스토랑에 init을 재정의 super를 통해서 상속받은 클래스의 의해 name, adress는 상속받고 shop_type는 지정해준 문자열을 전달.\n",
    "        super().__init__(name=name, shop_type='식당', address=address)\n",
    "        self.rating = rating\n",
    "        \n",
    "    @property\n",
    "    def info(self):\n",
    "        return '식당' + super().info[2:] + '\\n평점: {}'.format(self.rating)"
   ]
  },
  {
   "cell_type": "code",
   "execution_count": 256,
   "metadata": {},
   "outputs": [],
   "source": [
    "subway1 = Shop('서브웨이','식당','성수역')\n",
    "subway2 = Restaurant('서브웨이','성수역', 10)"
   ]
  },
  {
   "cell_type": "code",
   "execution_count": 257,
   "metadata": {},
   "outputs": [
    {
     "name": "stdout",
     "output_type": "stream",
     "text": [
      "상점정보(서브웨이)\n",
      "유형: 식당\n",
      "주소: 성수역\n"
     ]
    }
   ],
   "source": [
    "subway1.show_info()"
   ]
  },
  {
   "cell_type": "code",
   "execution_count": 258,
   "metadata": {},
   "outputs": [
    {
     "name": "stdout",
     "output_type": "stream",
     "text": [
      "식당정보(서브웨이)\n",
      "유형: 식당\n",
      "주소: 성수역\n",
      "평점: 10\n"
     ]
    }
   ],
   "source": [
    "subway2.show_info()"
   ]
  },
  {
   "cell_type": "code",
   "execution_count": 259,
   "metadata": {},
   "outputs": [],
   "source": [
    "shop_list = []"
   ]
  },
  {
   "cell_type": "code",
   "execution_count": 260,
   "metadata": {},
   "outputs": [],
   "source": [
    "shop_list = [subway1, subway2]"
   ]
  },
  {
   "cell_type": "code",
   "execution_count": 261,
   "metadata": {},
   "outputs": [
    {
     "name": "stdout",
     "output_type": "stream",
     "text": [
      "<__main__.Shop object at 0x107be4160>\n",
      "<__main__.Restaurant object at 0x107be4710>\n"
     ]
    }
   ],
   "source": [
    "for shop in shop_list:\n",
    "    print(shop)"
   ]
  },
  {
   "cell_type": "code",
   "execution_count": null,
   "metadata": {},
   "outputs": [],
   "source": []
  }
 ],
 "metadata": {
  "kernelspec": {
   "display_name": "Python 3",
   "language": "python",
   "name": "python3"
  },
  "language_info": {
   "codemirror_mode": {
    "name": "ipython",
    "version": 3
   },
   "file_extension": ".py",
   "mimetype": "text/x-python",
   "name": "python",
   "nbconvert_exporter": "python",
   "pygments_lexer": "ipython3",
   "version": "3.6.6"
  }
 },
 "nbformat": 4,
 "nbformat_minor": 2
}
