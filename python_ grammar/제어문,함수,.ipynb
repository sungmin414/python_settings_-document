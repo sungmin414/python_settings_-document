{
 "cells": [
  {
   "cell_type": "code",
   "execution_count": 15,
   "metadata": {},
   "outputs": [
    {
     "name": "stdout",
     "output_type": "stream",
     "text": [
      "Good\n"
     ]
    }
   ],
   "source": [
    "is_holiday = True\n",
    "\n",
    "if is_holiday:\n",
    "    print('Good')\n",
    "else:\n",
    "    print('Bad')"
   ]
  },
  {
   "cell_type": "code",
   "execution_count": 16,
   "metadata": {},
   "outputs": [
    {
     "name": "stdout",
     "output_type": "stream",
     "text": [
      "Good\n"
     ]
    }
   ],
   "source": [
    "print('Good') if is_holiday else print('Bad')"
   ]
  },
  {
   "cell_type": "code",
   "execution_count": 22,
   "metadata": {},
   "outputs": [
    {
     "name": "stdout",
     "output_type": "stream",
     "text": [
      "Good\n"
     ]
    }
   ],
   "source": [
    "result = print('Good') if is_holiday else print('Bad')"
   ]
  },
  {
   "cell_type": "code",
   "execution_count": 23,
   "metadata": {},
   "outputs": [],
   "source": [
    "result = 'Good' if is_holiday else 'Bad'"
   ]
  },
  {
   "cell_type": "code",
   "execution_count": 24,
   "metadata": {},
   "outputs": [
    {
     "name": "stdout",
     "output_type": "stream",
     "text": [
      "Good\n"
     ]
    }
   ],
   "source": [
    "print(result)"
   ]
  },
  {
   "cell_type": "code",
   "execution_count": 32,
   "metadata": {},
   "outputs": [
    {
     "name": "stdout",
     "output_type": "stream",
     "text": [
      "Good\n"
     ]
    }
   ],
   "source": [
    "if is_holiday:\n",
    "    result = 'Good'\n",
    "else:\n",
    "    result = 'Bad'\n",
    "print(result)"
   ]
  },
  {
   "cell_type": "code",
   "execution_count": 39,
   "metadata": {},
   "outputs": [],
   "source": [
    "vacation = 8\n",
    "if vacation >= 7:\n",
    "    result = 'Good'\n",
    "elif vacation >= 5:\n",
    "    result = 'Normal'\n",
    "else:\n",
    "    result = 'Bad'"
   ]
  },
  {
   "cell_type": "code",
   "execution_count": 40,
   "metadata": {},
   "outputs": [
    {
     "name": "stdout",
     "output_type": "stream",
     "text": [
      "Good\n"
     ]
    }
   ],
   "source": [
    "print(result)"
   ]
  },
  {
   "cell_type": "code",
   "execution_count": 42,
   "metadata": {},
   "outputs": [],
   "source": [
    "result = 'Good' if vacation >=7 else 'Norma' if vacation >= 5 else 'Bad' "
   ]
  },
  {
   "cell_type": "code",
   "execution_count": 43,
   "metadata": {},
   "outputs": [
    {
     "name": "stdout",
     "output_type": "stream",
     "text": [
      "Good\n"
     ]
    }
   ],
   "source": [
    "print(result)"
   ]
  },
  {
   "cell_type": "code",
   "execution_count": 44,
   "metadata": {},
   "outputs": [],
   "source": [
    "sample = [\n",
    "    [1,2,3],\n",
    "    [4,5,6],\n",
    "    [7,8,9],\n",
    "]"
   ]
  },
  {
   "cell_type": "code",
   "execution_count": 45,
   "metadata": {},
   "outputs": [
    {
     "name": "stdout",
     "output_type": "stream",
     "text": [
      "[[1, 2, 3], [4, 5, 6], [7, 8, 9]]\n"
     ]
    }
   ],
   "source": [
    "print(sample)"
   ]
  },
  {
   "cell_type": "code",
   "execution_count": 56,
   "metadata": {},
   "outputs": [
    {
     "name": "stdout",
     "output_type": "stream",
     "text": [
      "[1, 2, 3]\n",
      "1\n",
      "2\n",
      "3\n",
      "[4, 5, 6]\n",
      "4\n",
      "5\n",
      "6\n",
      "[7, 8, 9]\n",
      "7\n",
      "8\n",
      "9\n"
     ]
    }
   ],
   "source": [
    "for a in sample:\n",
    "    print(a)\n",
    "    for b in a:\n",
    "        print(b)"
   ]
  },
  {
   "cell_type": "code",
   "execution_count": 155,
   "metadata": {},
   "outputs": [],
   "source": [
    "find = 4"
   ]
  },
  {
   "cell_type": "code",
   "execution_count": 156,
   "metadata": {},
   "outputs": [
    {
     "name": "stdout",
     "output_type": "stream",
     "text": [
      "4을/를 찾았음\n"
     ]
    }
   ],
   "source": [
    "for item in sample:\n",
    "    if find in item:\n",
    "        print(f'{find}을/를 찾았음')\n",
    "        break\n",
    "else:\n",
    "    print(f'{find}을/를 못찾음')"
   ]
  },
  {
   "cell_type": "code",
   "execution_count": 159,
   "metadata": {},
   "outputs": [
    {
     "name": "stdout",
     "output_type": "stream",
     "text": [
      "4을/를 찾았음\n"
     ]
    }
   ],
   "source": [
    "found = False\n",
    "for item in sample:\n",
    "    if find in item:\n",
    "        print(f'{find}을/를 찾았음')\n",
    "        found = True\n",
    "        break\n",
    "if not found:\n",
    "    print(f'{find}을/를 못찾음')"
   ]
  },
  {
   "cell_type": "code",
   "execution_count": 165,
   "metadata": {},
   "outputs": [],
   "source": [
    "fruits = 'apple,banana,melon'.split(',')\n",
    "colors = 'red,yellow,green,purple'.split(',')"
   ]
  },
  {
   "cell_type": "code",
   "execution_count": 167,
   "metadata": {},
   "outputs": [
    {
     "name": "stdout",
     "output_type": "stream",
     "text": [
      "fruit: apple color: red\n",
      "fruit: banana color: yellow\n",
      "fruit: melon color: green\n"
     ]
    }
   ],
   "source": [
    "for fruit, color in zip(fruits, colors):\n",
    "    print('fruit:', fruit, 'color:', color)"
   ]
  },
  {
   "cell_type": "code",
   "execution_count": 177,
   "metadata": {},
   "outputs": [
    {
     "name": "stdout",
     "output_type": "stream",
     "text": [
      "0 apple\n",
      "1 banana\n",
      "2 melon\n"
     ]
    }
   ],
   "source": [
    "for index, a in enumerate(fruits):\n",
    "    print(index, a)"
   ]
  },
  {
   "cell_type": "code",
   "execution_count": 180,
   "metadata": {},
   "outputs": [
    {
     "name": "stdout",
     "output_type": "stream",
     "text": [
      "red apple\n",
      "yellow banana\n",
      "green melon\n"
     ]
    }
   ],
   "source": [
    "short_list = fruits\n",
    "long_list = colors\n",
    "\n",
    "if len(fruits) > len(colors):\n",
    "    short_list = colors\n",
    "    long_list = fruits\n",
    "\n",
    "for index, item in enumerate(short_list):\n",
    "    print(long_list[index],item,)"
   ]
  },
  {
   "cell_type": "code",
   "execution_count": null,
   "metadata": {},
   "outputs": [],
   "source": []
  },
  {
   "cell_type": "code",
   "execution_count": null,
   "metadata": {},
   "outputs": [],
   "source": []
  }
 ],
 "metadata": {
  "kernelspec": {
   "display_name": "Python 3",
   "language": "python",
   "name": "python3"
  },
  "language_info": {
   "codemirror_mode": {
    "name": "ipython",
    "version": 3
   },
   "file_extension": ".py",
   "mimetype": "text/x-python",
   "name": "python",
   "nbconvert_exporter": "python",
   "pygments_lexer": "ipython3",
   "version": "3.6.6"
  }
 },
 "nbformat": 4,
 "nbformat_minor": 2
}
