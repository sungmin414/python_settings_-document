{
 "cells": [
  {
   "cell_type": "code",
   "execution_count": 19,
   "metadata": {},
   "outputs": [],
   "source": [
    "class Library:\n",
    "    def __init__(self, library_name, book_list):\n",
    "        self.library_name = library_name\n",
    "        self.book_list = book_list\n",
    "        \n",
    "    def __repr__(self):\n",
    "        return f'Library : ({self.library_name}) [ID:{id(self)}]'\n",
    "    \n",
    "    def __str__(self):\n",
    "        return self.library_name\n",
    "    \n",
    "    \n",
    "    def add_book(self, book_name):\n",
    "        for book in self.book_list:\n",
    "            if book.book_name == book_name:\n",
    "                print('이미 소장중인 도서입니다')\n",
    "                break\n",
    "        else:\n",
    "            self.book_list.append(Book(book_name, self))\n",
    "            print(f'책 ({book_name})이 소장 도서에 추가되었습니다.')\n",
    "            print(self.book_list)\n",
    "            \n",
    "    def remove_book(self, book_name):\n",
    "        for book in self.book_list:\n",
    "            if book.book_name == book_name:\n",
    "                self.book_list.remove(book)\n",
    "                print(f'책 ({book_name})이 소장 도서에서 삭제되었습니다')\n",
    "                break\n",
    "        else:\n",
    "            print('소장중인 도서가 아닙니다')\n",
    "    \n",
    "    @property\n",
    "    def info(self):\n",
    "#         result = ''\n",
    "#         result += f'{self.library_name} 도서 목록\\n'\n",
    "#         for index, book in enumerate(self.book_list, start=1):\n",
    "#             result += f'{index}.{book.book_name}\\n'\n",
    "#         result += f'총 {len(self.book_list)}권 소장중'\n",
    "#         return result\n",
    "    \n",
    "        return '{info_title}\\n{book_list}\\n{total}'.format(\n",
    "            info_title = f'{self.library_name} 도서 목록',\n",
    "            book_list = '\\n'.join([f'{index}.{book.book_name}'for index, book in enumerate(self.book_list, start=1)]),\n",
    "            total = f'총 {len(self.book_list)}',\n",
    "        )\n",
    "    \n",
    "        {\n",
    "            \n",
    "        }\n",
    "    \n",
    "    \n",
    "class Book:\n",
    "    book_list = []\n",
    "    \n",
    "    def __init__(self, book_name, location):\n",
    "        self.book_name = book_name\n",
    "        self.location = location\n",
    "        self.book_list.append(self)\n",
    "        \n",
    "    @classmethod\n",
    "    def total_book_info(cls):\n",
    "        \"\"\"\n",
    "        모든 책 정보 문자열을 리턴\n",
    "        \n",
    "        도서 목록\n",
    "         1. 처음 시작하는 파이썬 (성수도서관)\n",
    "         2. 전문가를 위한 파이썬 (건대도서관)\n",
    "        총 2권\n",
    "        \"\"\"\n",
    "        print('도서 목록\\n{book_list}\\n{total}'.format(\n",
    "            book_list='  \\n'.join(['{index}. {book_name} ({location}) [{status}]'.format(\n",
    "                index=index,\n",
    "                book_name=book.book_name,\n",
    "                location=book.location,\n",
    "                status=\"대출중\" if book.is_borrowed else \"대출가능\",\n",
    "            ) for index, book in enumerate(cls.book_list, start=1)]),\n",
    "            total=f'총 {len(cls.book_list)}권',\n",
    "        ))\n",
    "        \n",
    "        \n",
    "    def __repr__(self):\n",
    "        return f'Book ({self.book_name}) [ID:{id(self)}]'\n",
    "    \n",
    "    def __str__(self):\n",
    "        return self.book_name\n",
    "\n",
    "\n",
    "        \n",
    "    @property\n",
    "    def is_borrowed(self):\n",
    "        if isinstance(self.location, User):\n",
    "            return True\n",
    "        else:\n",
    "            return False\n",
    "\n",
    "    \n",
    "    \n",
    "class User:\n",
    "    def __init__(self, user_name, book_list=None):\n",
    "        self.user_name = user_name\n",
    "        self.book_list = book_list if book_list else []\n",
    "        \n",
    "    def __repr__(self):\n",
    "        return f'Library : ({self.user_name}) [ID:{id(self)}]'\n",
    "        \n",
    "    def borrowed_book(self, library, book_name):\n",
    "        for book in library.book_list:\n",
    "            if book.book_name == book_name:\n",
    "                self.book_list.append(book)\n",
    "                library.book_list.remove(book)\n",
    "                # 빌려온 book의 loctaion속성 값을 자신 (User instance)으로 변경\n",
    "                book.loctaion = self\n",
    "                print(f'책 ({book.book_name})을 {library.library_name}으로 빌려옴')\n",
    "                break\n",
    "        else:\n",
    "            print(f'해당 도서가 {library.library_name}에 없습니다')\n",
    "    \n",
    "    def return_book(self, library, book_name):\n",
    "        for book in self.book_list:\n",
    "            if book.book_name == book_name:\n",
    "                self.book_list.remove(book)\n",
    "                library.book_list.append(book)\n",
    "                # 반납하는 Book의 loctaion속성값을 도서관 (Library instance)으로 변경\n",
    "                book.loctaion = library\n",
    "                print(f'책 ({book.book_name})을 {library.library_name}로 반납함')\n",
    "                break\n",
    "        else:\n",
    "            print(f'해당 도서를 가지고 있지 않습니다')\n",
    "    \n",
    "        \n",
    "        "
   ]
  },
  {
   "cell_type": "code",
   "execution_count": 20,
   "metadata": {},
   "outputs": [],
   "source": [
    "library1 = Library('성수 도서관',[])"
   ]
  },
  {
   "cell_type": "code",
   "execution_count": 21,
   "metadata": {},
   "outputs": [
    {
     "name": "stdout",
     "output_type": "stream",
     "text": [
      "책 (처음 시작하는 파이썬)이 소장 도서에 추가되었습니다.\n",
      "[Book (처음 시작하는 파이썬) [ID:4563253960]]\n"
     ]
    }
   ],
   "source": [
    "library1.add_book('처음 시작하는 파이썬')"
   ]
  },
  {
   "cell_type": "code",
   "execution_count": 22,
   "metadata": {},
   "outputs": [
    {
     "name": "stdout",
     "output_type": "stream",
     "text": [
      "책 (전문가를 위한 파이썬)이 소장 도서에 추가되었습니다.\n",
      "[Book (처음 시작하는 파이썬) [ID:4563253960], Book (전문가를 위한 파이썬) [ID:4563254184]]\n"
     ]
    }
   ],
   "source": [
    "library1.add_book('전문가를 위한 파이썬')"
   ]
  },
  {
   "cell_type": "code",
   "execution_count": 23,
   "metadata": {},
   "outputs": [],
   "source": [
    "user1 = User('박성민')"
   ]
  },
  {
   "cell_type": "code",
   "execution_count": 24,
   "metadata": {},
   "outputs": [
    {
     "name": "stdout",
     "output_type": "stream",
     "text": [
      "책 (처음 시작하는 파이썬)을 성수 도서관으로 빌려옴\n"
     ]
    }
   ],
   "source": [
    "user1.borrowed_book(library1,'처음 시작하는 파이썬')"
   ]
  },
  {
   "cell_type": "code",
   "execution_count": 25,
   "metadata": {},
   "outputs": [
    {
     "name": "stdout",
     "output_type": "stream",
     "text": [
      "도서 목록\n",
      "1. 처음 시작하는 파이썬 (성수 도서관) [대출가능]  \n",
      "2. 전문가를 위한 파이썬 (성수 도서관) [대출가능]\n",
      "총 2권\n"
     ]
    }
   ],
   "source": [
    "Book.total_book_info()"
   ]
  },
  {
   "cell_type": "code",
   "execution_count": 2,
   "metadata": {},
   "outputs": [],
   "source": [
    "class Shop:\n",
    "    def __init__(self, name):\n",
    "        self.name = name\n",
    "    \n",
    "    def __repr__(self):\n",
    "        return self.name\n",
    "    \n",
    "    \n",
    "    @staticmethod\n",
    "    def make_dummy_shop():\n",
    "        return Shop('미정')"
   ]
  },
  {
   "cell_type": "code",
   "execution_count": 5,
   "metadata": {},
   "outputs": [
    {
     "data": {
      "text/plain": [
       "미정"
      ]
     },
     "execution_count": 5,
     "metadata": {},
     "output_type": "execute_result"
    }
   ],
   "source": [
    "dummy1 = Shop.make_dummy_shop()\n",
    "dummy1"
   ]
  },
  {
   "cell_type": "code",
   "execution_count": 6,
   "metadata": {},
   "outputs": [],
   "source": [
    "class Restaurant(Shop):\n",
    "    pass"
   ]
  },
  {
   "cell_type": "code",
   "execution_count": 9,
   "metadata": {},
   "outputs": [
    {
     "name": "stdout",
     "output_type": "stream",
     "text": [
      "<class '__main__.Shop'>\n"
     ]
    }
   ],
   "source": [
    "r1 = Restaurant.make_dummy_shop()\n",
    "print(type(r1))"
   ]
  },
  {
   "cell_type": "code",
   "execution_count": 21,
   "metadata": {},
   "outputs": [],
   "source": [
    "class User:\n",
    "    def __init__(self, name):\n",
    "        self.name = name\n",
    "        self.atk = 0\n",
    "        self.defense = 0\n",
    "        \n",
    "    def __repr__(self):\n",
    "        return f'{self.name}(atk:{self.atk}, def:{self.defense})'\n",
    "        \n",
    "    def use(self, item):\n",
    "        item.use(self)\n",
    "        \n",
    "\n",
    "class Sword:\n",
    "    def use(self, user):\n",
    "        user.atk += 10\n",
    "\n",
    "class Shield:\n",
    "    def use(self, user):\n",
    "        user.defense += 10\n",
    "        "
   ]
  },
  {
   "cell_type": "code",
   "execution_count": 22,
   "metadata": {},
   "outputs": [],
   "source": [
    "user = User('박성민')"
   ]
  },
  {
   "cell_type": "code",
   "execution_count": 23,
   "metadata": {},
   "outputs": [
    {
     "data": {
      "text/plain": [
       "박성민(atk:0, def:0)"
      ]
     },
     "execution_count": 23,
     "metadata": {},
     "output_type": "execute_result"
    }
   ],
   "source": [
    "user"
   ]
  },
  {
   "cell_type": "code",
   "execution_count": 27,
   "metadata": {},
   "outputs": [],
   "source": [
    "sword1 = Sword()"
   ]
  },
  {
   "cell_type": "code",
   "execution_count": 28,
   "metadata": {},
   "outputs": [],
   "source": [
    "shield1 = Shield()"
   ]
  },
  {
   "cell_type": "code",
   "execution_count": 33,
   "metadata": {},
   "outputs": [],
   "source": [
    "user.use(sword1)"
   ]
  },
  {
   "cell_type": "code",
   "execution_count": 37,
   "metadata": {},
   "outputs": [],
   "source": [
    "user.use(shield1)"
   ]
  },
  {
   "cell_type": "code",
   "execution_count": 38,
   "metadata": {},
   "outputs": [
    {
     "data": {
      "text/plain": [
       "박성민(atk:20, def:20)"
      ]
     },
     "execution_count": 38,
     "metadata": {},
     "output_type": "execute_result"
    }
   ],
   "source": [
    "user"
   ]
  },
  {
   "cell_type": "code",
   "execution_count": null,
   "metadata": {},
   "outputs": [],
   "source": []
  }
 ],
 "metadata": {
  "kernelspec": {
   "display_name": "Python 3",
   "language": "python",
   "name": "python3"
  },
  "language_info": {
   "codemirror_mode": {
    "name": "ipython",
    "version": 3
   },
   "file_extension": ".py",
   "mimetype": "text/x-python",
   "name": "python",
   "nbconvert_exporter": "python",
   "pygments_lexer": "ipython3",
   "version": "3.6.6"
  }
 },
 "nbformat": 4,
 "nbformat_minor": 2
}
